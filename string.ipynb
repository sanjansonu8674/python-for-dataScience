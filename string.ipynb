{
 "cells": [
  {
   "cell_type": "markdown",
   "id": "41f9d694-00bd-4577-b578-aaf668d53e30",
   "metadata": {},
   "source": [
    "### String "
   ]
  },
  {
   "cell_type": "markdown",
   "id": "2c31f155-041f-4982-b24b-e2abd4c5989b",
   "metadata": {},
   "source": [
    "Till now discuss List, tuple, set, and dictionary data types or data structures. In this file of tutorial, we will discuss string. what is a string and how to create strin"
   ]
  },
  {
   "cell_type": "markdown",
   "id": "74a86106-f924-4956-ba6c-2943822e817a",
   "metadata": {},
   "source": [
    "#### What is Sring"
   ]
  },
  {
   "cell_type": "markdown",
   "id": "1ac64055-b5b2-4b51-b090-e1578366ffe1",
   "metadata": {},
   "source": [
    "The string is the collection of characteristics or latter which is surrounded by single bracket `('')`, double bracket `(\"\")`, triple single or double bracket `(''' ''' or \"\"\" \"\"\")` The computer does not understand the characters; internally, it stores manipulated character as the combination of the 0's and 1's."
   ]
  },
  {
   "cell_type": "markdown",
   "id": "4827e799-0af4-4c51-ae26-224b72813b4c",
   "metadata": {},
   "source": [
    "Each character is encoded in the ASCII or Unicode character. So we can say that Python strings are also called the collection of Unicode characters."
   ]
  },
  {
   "cell_type": "markdown",
   "id": "ba858033-1f03-4fc2-a297-be4d5a879ff5",
   "metadata": {},
   "source": [
    "### Immutable:\n",
    "* Once a string is created, its content cannot be changed. Any operation that appears to modify a string actually creates a new string.\n",
    "#### Sequence Type:\n",
    "* Strings are considered a sequence type, meaning they can be indexed and sliced to access individual characters or substrings.\n",
    "#### Unicode Support:\n",
    "* Python strings are stored as Unicode, allowing them to represent characters from various languages."
   ]
  },
  {
   "cell_type": "markdown",
   "id": "cde2594e-67e4-4867-86a0-02fbb3ac9303",
   "metadata": {},
   "source": [
    "#### syntax"
   ]
  },
  {
   "cell_type": "code",
   "execution_count": 1,
   "id": "16660a7b-3ca9-419b-b1c7-78ae8a968280",
   "metadata": {},
   "outputs": [
    {
     "data": {
      "text/plain": [
       "'sanjan pandit'"
      ]
     },
     "execution_count": 1,
     "metadata": {},
     "output_type": "execute_result"
    }
   ],
   "source": [
    "str = \"sanjan pandit\"\n",
    "str"
   ]
  },
  {
   "cell_type": "markdown",
   "id": "7a42bce3-7416-4a39-9c05-14ef789c7433",
   "metadata": {},
   "source": [
    "#### Creating String"
   ]
  },
  {
   "cell_type": "markdown",
   "id": "20e4d750-4b82-4ee2-a239-7c3e1e2054d6",
   "metadata": {},
   "source": [
    "We can create a string by enclosing the characters in single quotes or double-quotes. Python also provides triple-quotes to represent the string, but it is generally used for multiline string or docstrings."
   ]
  },
  {
   "cell_type": "markdown",
   "id": "1045d065-cd20-4de5-aed9-1dfb31d424aa",
   "metadata": {},
   "source": [
    "#### single quote"
   ]
  },
  {
   "cell_type": "code",
   "execution_count": 2,
   "id": "4e72cb16-0f0f-4f90-9c0b-776f77a23d52",
   "metadata": {},
   "outputs": [
    {
     "name": "stdout",
     "output_type": "stream",
     "text": [
      "sanjan pandit\n"
     ]
    }
   ],
   "source": [
    "name = 'sanjan pandit'\n",
    "print(name)"
   ]
  },
  {
   "cell_type": "markdown",
   "id": "0750f8aa-f26f-4ef4-ba1f-40881d9194e6",
   "metadata": {},
   "source": [
    "#### double quote"
   ]
  },
  {
   "cell_type": "code",
   "execution_count": 3,
   "id": "5ac5684f-3ece-4531-86d8-6d6d7bed43b8",
   "metadata": {},
   "outputs": [
    {
     "name": "stdout",
     "output_type": "stream",
     "text": [
      "sanjan pandit\n"
     ]
    }
   ],
   "source": [
    "name = \"sanjan pandit\"\n",
    "print(name)"
   ]
  },
  {
   "cell_type": "markdown",
   "id": "9982b255-0418-4cd6-aa80-3920eefbd99d",
   "metadata": {},
   "source": [
    "#### creating string using triple quote it is also create multiple line string"
   ]
  },
  {
   "cell_type": "code",
   "execution_count": 5,
   "id": "1e079e47-7866-4c08-bd3c-5b153d8fc5f9",
   "metadata": {},
   "outputs": [
    {
     "name": "stdout",
     "output_type": "stream",
     "text": [
      "Triple quotes are generally used for  \n",
      "    represent the multiline or \n",
      "    docstring\n",
      "Triple quotes are generally used for  \n",
      "    represent the multiline or \n",
      "    docstring\n"
     ]
    }
   ],
   "source": [
    "str = '''Triple quotes are generally used for  \n",
    "    represent the multiline or \n",
    "    docstring'''\n",
    "print(str)\n",
    "str = \"\"\"Triple quotes are generally used for  \n",
    "    represent the multiline or \n",
    "    docstring\"\"\"\n",
    "print(str)"
   ]
  },
  {
   "cell_type": "markdown",
   "id": "824779a0-1f31-4f94-b649-45b614877fd3",
   "metadata": {},
   "source": [
    "#### Strings indexing and splitting"
   ]
  },
  {
   "cell_type": "markdown",
   "id": "56cf92c6-95e2-41cf-b493-c38bc3f97da5",
   "metadata": {},
   "source": [
    "like other Language, python string also Starts indexing with `0` and ends with `length-1`"
   ]
  },
  {
   "cell_type": "code",
   "execution_count": 7,
   "id": "a54f2283-8570-4a99-8574-40645aa0de07",
   "metadata": {},
   "outputs": [],
   "source": [
    "str = \"Sanjan Pandit\""
   ]
  },
  {
   "cell_type": "markdown",
   "id": "89f7afc8-4a2a-486e-a5fd-5f8031fcb4f6",
   "metadata": {},
   "source": [
    "accessing index"
   ]
  },
  {
   "cell_type": "code",
   "execution_count": 8,
   "id": "d7638a36-bac1-4a07-a86d-82a77c05d2b3",
   "metadata": {},
   "outputs": [
    {
     "data": {
      "text/plain": [
       "'S'"
      ]
     },
     "execution_count": 8,
     "metadata": {},
     "output_type": "execute_result"
    }
   ],
   "source": [
    "str[0]"
   ]
  },
  {
   "cell_type": "code",
   "execution_count": 9,
   "id": "15899cad-ee3f-4f5e-9526-68fb9e650c07",
   "metadata": {},
   "outputs": [
    {
     "data": {
      "text/plain": [
       "'a'"
      ]
     },
     "execution_count": 9,
     "metadata": {},
     "output_type": "execute_result"
    }
   ],
   "source": [
    "str[1]"
   ]
  },
  {
   "cell_type": "code",
   "execution_count": 10,
   "id": "99176f27-a54b-4f2e-bb46-d672c0c17719",
   "metadata": {},
   "outputs": [
    {
     "data": {
      "text/plain": [
       "'t'"
      ]
     },
     "execution_count": 10,
     "metadata": {},
     "output_type": "execute_result"
    }
   ],
   "source": [
    "str[len(str)-1]"
   ]
  },
  {
   "cell_type": "markdown",
   "id": "5e867b87-bf41-48bf-aa2e-ac5817dc0491",
   "metadata": {},
   "source": [
    "Python gives a extra feature which is `negative indexing` "
   ]
  },
  {
   "cell_type": "code",
   "execution_count": 11,
   "id": "f8998076-3ae8-47c0-8f8c-41f8bd01a3d3",
   "metadata": {},
   "outputs": [
    {
     "data": {
      "text/plain": [
       "'t'"
      ]
     },
     "execution_count": 11,
     "metadata": {},
     "output_type": "execute_result"
    }
   ],
   "source": [
    "str[-1]"
   ]
  },
  {
   "cell_type": "code",
   "execution_count": 12,
   "id": "5e7514f9-78b3-486f-9bc0-7addc471b76a",
   "metadata": {},
   "outputs": [
    {
     "data": {
      "text/plain": [
       "'i'"
      ]
     },
     "execution_count": 12,
     "metadata": {},
     "output_type": "execute_result"
    }
   ],
   "source": [
    "str[-2]"
   ]
  },
  {
   "cell_type": "code",
   "execution_count": 15,
   "id": "af536bdc-d482-48f5-937f-c65da1e91750",
   "metadata": {},
   "outputs": [
    {
     "data": {
      "text/plain": [
       "'S'"
      ]
     },
     "execution_count": 15,
     "metadata": {},
     "output_type": "execute_result"
    }
   ],
   "source": [
    "str[-len(str)]"
   ]
  },
  {
   "cell_type": "markdown",
   "id": "008d3829-f13b-44c1-a318-fad43b0b0f26",
   "metadata": {},
   "source": [
    "#### Comprering negative and positive index "
   ]
  },
  {
   "cell_type": "code",
   "execution_count": 16,
   "id": "46bf144f-de96-4d95-ab26-9fbc4af037b1",
   "metadata": {},
   "outputs": [
    {
     "data": {
      "text/plain": [
       "True"
      ]
     },
     "execution_count": 16,
     "metadata": {},
     "output_type": "execute_result"
    }
   ],
   "source": [
    "str[0]==str[-len(str)]"
   ]
  },
  {
   "cell_type": "code",
   "execution_count": 22,
   "id": "a1eb69f3-eed2-45d1-9f5d-8cc8fb6304c3",
   "metadata": {},
   "outputs": [
    {
     "data": {
      "text/plain": [
       "True"
      ]
     },
     "execution_count": 22,
     "metadata": {},
     "output_type": "execute_result"
    }
   ],
   "source": [
    "str[1] == str[(-len(str)+1)]"
   ]
  },
  {
   "cell_type": "code",
   "execution_count": 23,
   "id": "39760b63-c006-41f6-9c62-7fbe98e2aba2",
   "metadata": {},
   "outputs": [
    {
     "data": {
      "text/plain": [
       "True"
      ]
     },
     "execution_count": 23,
     "metadata": {},
     "output_type": "execute_result"
    }
   ],
   "source": [
    "str[len(str)-1] == str[-1]"
   ]
  },
  {
   "cell_type": "markdown",
   "id": "56694153-24c7-4221-90a8-6e9a0875b490",
   "metadata": {},
   "source": [
    "#### Accessing element with Range index index"
   ]
  },
  {
   "cell_type": "code",
   "execution_count": 24,
   "id": "c1ad0c1f-a8ff-4a5c-890d-5fb2a200483c",
   "metadata": {},
   "outputs": [
    {
     "data": {
      "text/plain": [
       "'anja'"
      ]
     },
     "execution_count": 24,
     "metadata": {},
     "output_type": "execute_result"
    }
   ],
   "source": [
    "str[1:5]"
   ]
  },
  {
   "cell_type": "code",
   "execution_count": 25,
   "id": "0a7a42cb-3976-4781-86bd-ff1f9c7d318a",
   "metadata": {},
   "outputs": [
    {
     "data": {
      "text/plain": [
       "'andi'"
      ]
     },
     "execution_count": 25,
     "metadata": {},
     "output_type": "execute_result"
    }
   ],
   "source": [
    "str[-5:-1]"
   ]
  },
  {
   "cell_type": "markdown",
   "id": "90219635-0dfb-4bb2-8ab5-27149cfafe60",
   "metadata": {},
   "source": [
    "#### All Element accessing with `:` Operators"
   ]
  },
  {
   "cell_type": "code",
   "execution_count": 26,
   "id": "d9814d9d-a2fe-4420-ae86-41983877c158",
   "metadata": {},
   "outputs": [
    {
     "data": {
      "text/plain": [
       "'Sanjan Pandit'"
      ]
     },
     "execution_count": 26,
     "metadata": {},
     "output_type": "execute_result"
    }
   ],
   "source": [
    "str[:]"
   ]
  },
  {
   "cell_type": "markdown",
   "id": "8fb02e1e-e989-4e0c-93f4-511038f1d727",
   "metadata": {},
   "source": [
    "#### String Operators"
   ]
  },
  {
   "cell_type": "markdown",
   "id": "69f6985d-e05b-40ca-8d1b-9a74e9e606e6",
   "metadata": {},
   "source": [
    "* `+`\tIt is known as concatenation operator used to join the strings given either side of the operator.\n",
    "* `*`\tIt is known as repetition operator. It concatenates the multiple copies of the same string.\n",
    "* `[]`\tIt is known as slice operator. It is used to access the sub-strings of a particular string.\n",
    "* `[:]`\tIt is known as range slice operator. It is used to access the characters from the specified range.\n",
    "* `in`\tIt is known as membership operator. It returns if a particular sub-string is present in the specified string.\n",
    "* `not in`\tIt is also a membership operator and does the exact reverse of in. It returns true if a particular substring is not present in the specified string.\n",
    "* `r/R`\tIt is used to specify the raw string. Raw strings are used in the cases where we need to print the actual meaning of escape characters such as \"C://python\". To define any string as a raw string, the character r or R is followed by the string.\n",
    "* `%`\tIt is used to perform string formatting. It makes use of the format specifiers used in C programming like %d or %f to map their values in python. We will discuss how formatting is done in python."
   ]
  },
  {
   "cell_type": "markdown",
   "id": "ed63e055-632e-467c-8a14-84ce6b1626d0",
   "metadata": {},
   "source": [
    "### String Method"
   ]
  },
  {
   "cell_type": "markdown",
   "id": "24f75a52-b16b-4375-b79d-6ccb61190e9f",
   "metadata": {},
   "source": [
    "* `capitalize()`\tIt capitalizes the first character of the String. This function is deprecated in python3\n",
    "  \n",
    "* `casefold()`\tIt returns a version of s suitable for case-less comparisons.\n",
    "\n",
    "  \n",
    "* `center(width ,fillchar)`\tIt returns a space padded string with the original string centred with equal number of left and right spaces.\n",
    "\n",
    "* \n",
    "* `count(string,begin,end)`\tIt counts the number of occurrences of a substring in a String between begin and end index.\n",
    "* `decode(encoding = 'UTF8', errors = 'strict')`\tDecodes the string using codec registered for encoding.\n",
    "* `encode()`\tEncode S using the codec registered for encoding. Default encoding is 'utf-8'.\n",
    "* `endswith(suffix ,begin=0,end=len(string))`\tIt returns a Boolean value if the string terminates with given suffix between begin and end.\n",
    "* `expandtabs(tabsize = 8)`\tIt defines tabs in string to multiple spaces. The default space value is 8.\n",
    "* `find(substring ,beginIndex, endIndex)`\tIt returns the index value of the string where substring is found between begin index and end index.\n",
    "* `format(value)`\tIt returns a formatted version of S, using the passed value.\n",
    "* `index(subsring, beginIndex, endIndex)`\tIt throws an exception if string is not found. It works same as find() method.\n",
    "* `isalnum()`\tIt returns true if the characters in the string are alphanumeric i.e., alphabets or numbers and there is at least 1 character. Otherwise,  `it returns false.\n",
    "* `isalpha()`\tIt returns true if all the characters are alphabets and there is at least one character, otherwise False.\n",
    "* `isdecimal()`\tIt returns true if all the characters of the string are decimals.\n",
    "* `isdigit()`\tIt returns true if all the characters are digits and there is at least one character, otherwise False.\n",
    "* `isidentifier()`\tIt returns true if the string is the valid identifier.\n",
    "* `islower()`\tIt returns true if the characters of a string are in lower case, otherwise false.\n",
    "* `isnumeric()`\tIt returns true if the string contains only numeric characters.\n",
    "* `isprintable()`\tIt returns true if all the characters of s are printable or s is empty, false otherwise.\n",
    "* `isupper()`\tIt returns false if characters of a string are in Upper case, otherwise False.\n",
    "* `isspace()`\tIt returns true if the characters of a string are white-space, otherwise false.\n",
    "* `istitle()`\tIt returns true if the string is titled properly and false otherwise. A title string is the one in which the first character is upper-case whereas the other characters are lower-case.\n",
    "* `isupper()`\tIt returns true if all the characters of the string(if exists) is true otherwise it returns false.\n",
    "* `join(seq)`\tIt merges the strings representation of the given sequence.\n",
    "* `len(string)`\tIt returns the length of a string.\n",
    "* `ljust(width[,fillchar])`\tIt returns the space padded strings with the original string left justified to the given width.\n",
    "* `lower()`\tIt converts all the characters of a string to Lower case.\n",
    "* `lstrip()`\tIt removes all leading whitespaces of a string and can also be used to remove particular character from leading.\n",
    "* `partition()`\tIt searches for the separator sep in S, and returns the part before it, the separator itself, and the part after it. If the separator is not found, return S and two empty strings.\n",
    "* `maketrans()`\tIt returns a translation table to be used in translate function.\n",
    "* `replace(old,new[,count])`\tIt replaces the old sequence of characters with the new sequence. The max characters are replaced if max is given.\n",
    "* `rfind(str,beg=0,end=len(str))`\tIt is similar to find but it traverses the string in backward direction.\n",
    "* `rindex(str,beg=0,end=len(str))`\tIt is same as index but it traverses the string in backward direction.\n",
    "* `rjust(width,[,fillchar])\tReturns a space padded string having original string right justified to the number of characters specified.\n",
    "* `rstrip()`\tIt removes all trailing whitespace of a string and can also be used to remove particular character from trailing.\n",
    "* `rsplit(sep=None, maxsplit = -1)`\tIt is same as split() but it processes the string from the backward direction. It returns the list of words in the string. If Separator is not specified then the string splits according to the white-space.\n",
    "* `split(str,num=string.count(str))`\tSplits the string according to the delimiter str. The string splits according to the space if the delimiter is * `not provided. It returns the list of substring concatenated with the delimiter.\n",
    "* `splitlines(num=string.count('\\n'))`\tIt returns the list of strings at each line with newline removed.\n",
    "* `startswith(str,beg=0,end=len(str))`\tIt returns a Boolean value if the string starts with given str between begin and end.\n",
    "* `strip([chars])`\tIt is used to perform lstrip() and rstrip() on the string.\n",
    "* `swapcase()`\tIt inverts case of all characters in a string.\n",
    "* `title()`\tIt is used to convert the string into the title-case i.e., The string meEruT will be converted to Meerut.\n",
    "* `translate(table,deletechars = '')`\tIt translates the string according to the translation table passed in the function .\n",
    "* `upper()`\tIt converts all the characters of a string to Upper Case.\n",
    "* `zfill(width)`\tReturns original string leftpadded with zeros to a total of width characters; intended for numbers, zfill() retains any sign given (less one zero).\n",
    "* `rpartition()`"
   ]
  },
  {
   "cell_type": "code",
   "execution_count": null,
   "id": "b7a6cec0-a32c-4094-af10-b2b5b50e0b9c",
   "metadata": {},
   "outputs": [],
   "source": []
  }
 ],
 "metadata": {
  "kernelspec": {
   "display_name": "Python 3 (ipykernel)",
   "language": "python",
   "name": "python3"
  },
  "language_info": {
   "codemirror_mode": {
    "name": "ipython",
    "version": 3
   },
   "file_extension": ".py",
   "mimetype": "text/x-python",
   "name": "python",
   "nbconvert_exporter": "python",
   "pygments_lexer": "ipython3",
   "version": "3.12.4"
  }
 },
 "nbformat": 4,
 "nbformat_minor": 5
}
