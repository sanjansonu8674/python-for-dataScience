{
 "cells": [
  {
   "cell_type": "markdown",
   "id": "f8bcfab6-3978-4271-93ab-e133a7f865f2",
   "metadata": {},
   "source": [
    "# Lemdba function"
   ]
  },
  {
   "cell_type": "markdown",
   "id": "d1e28573-4ccc-4b37-a031-a75d1052c05b",
   "metadata": {},
   "source": [
    "Lambda Functions in Python are **anonymous functions**, implying they don't have a name. The **def** keyword is needed to create a typical function in Python, as we already know. We can also use the lambda keyword in Python to define an unnamed function."
   ]
  },
  {
   "cell_type": "markdown",
   "id": "07a54c43-e4ef-4b01-afa9-0fc1510c11df",
   "metadata": {},
   "source": [
    "#### Syntax"
   ]
  },
  {
   "cell_type": "markdown",
   "id": "ba9f86d0-8f8a-40be-bcc9-8c16c4f9ebaf",
   "metadata": {},
   "source": [
    "lambda arguments: expression   "
   ]
  },
  {
   "cell_type": "markdown",
   "id": "5790ffc1-f6a4-4916-a165-6e8968c5c368",
   "metadata": {},
   "source": [
    "This function accepts any count of inputs but only evaluates and returns one expression. That means it takes many inputs but returns only one output."
   ]
  },
  {
   "cell_type": "code",
   "execution_count": 1,
   "id": "b4edd5e4-db99-47c8-bbed-67abb4f05f85",
   "metadata": {},
   "outputs": [
    {
     "name": "stdout",
     "output_type": "stream",
     "text": [
      "62\n"
     ]
    }
   ],
   "source": [
    "add = lambda num: num + 56    \n",
    "print( add(6) )    "
   ]
  },
  {
   "cell_type": "markdown",
   "id": "f0888645-99d9-40cb-84de-33a6464a233d",
   "metadata": {},
   "source": [
    "#### Creating the same function without lambda function"
   ]
  },
  {
   "cell_type": "code",
   "execution_count": 8,
   "id": "95aacefe-786b-4d72-97e2-1ea7856a9e9c",
   "metadata": {},
   "outputs": [
    {
     "name": "stdout",
     "output_type": "stream",
     "text": [
      "62\n"
     ]
    }
   ],
   "source": [
    "def add(num):\n",
    "    return num + 56\n",
    "print(add(6))"
   ]
  },
  {
   "cell_type": "markdown",
   "id": "c029136d-a94a-4882-ae3b-618e5571f7f8",
   "metadata": {},
   "source": [
    "#### Multiplication of two number using lambda function"
   ]
  },
  {
   "cell_type": "code",
   "execution_count": 9,
   "id": "ac9f3ebd-e081-4ac4-bc03-a92aee0499ee",
   "metadata": {},
   "outputs": [
    {
     "name": "stdout",
     "output_type": "stream",
     "text": [
      "200\n"
     ]
    }
   ],
   "source": [
    "mul = lambda x, y : x * y\n",
    "print(mul(20,10))"
   ]
  },
  {
   "cell_type": "markdown",
   "id": "6f2e5c5c-9cec-49af-819c-4f9d9e7c5977",
   "metadata": {},
   "source": [
    "#### Creating the same function without lambda function"
   ]
  },
  {
   "cell_type": "code",
   "execution_count": 11,
   "id": "daec70b7-71f4-46c5-845e-7f43ed35bca8",
   "metadata": {},
   "outputs": [
    {
     "name": "stdout",
     "output_type": "stream",
     "text": [
      "200\n"
     ]
    }
   ],
   "source": [
    "def mul(x, y):\n",
    "    return x * y\n",
    "print(mul(20,10))"
   ]
  },
  {
   "cell_type": "markdown",
   "id": "55ed160b-5a17-4b70-8cce-497320437fc3",
   "metadata": {},
   "source": [
    "#### check greater number using lambda"
   ]
  },
  {
   "cell_type": "code",
   "execution_count": 12,
   "id": "fc1bc788-660e-4dc4-b0c2-2c28f8b6c765",
   "metadata": {},
   "outputs": [
    {
     "name": "stdout",
     "output_type": "stream",
     "text": [
      "30\n"
     ]
    }
   ],
   "source": [
    "greater = lambda x, y : x if x>y else y\n",
    "print(greater(20,30))"
   ]
  },
  {
   "cell_type": "code",
   "execution_count": 20,
   "id": "835369f9-e647-4baa-928b-c7577a173122",
   "metadata": {},
   "outputs": [
    {
     "name": "stdout",
     "output_type": "stream",
     "text": [
      "Not a Even\n"
     ]
    }
   ],
   "source": [
    "even = lambda x, y : x if x%2 == 0 else y if y % 2 == 0 else \"Not a Even\"\n",
    "print(even(45,61))"
   ]
  },
  {
   "cell_type": "markdown",
   "id": "0490d9a5-1b6e-45dc-8699-e748e7bd53ce",
   "metadata": {},
   "source": [
    "#### Write a Python program to sort a list of tuples using Lambda. Original list of tuples:"
   ]
  },
  {
   "cell_type": "code",
   "execution_count": 21,
   "id": "e6209bd6-2e50-4c1a-a49a-f9514ce5bad7",
   "metadata": {},
   "outputs": [
    {
     "data": {
      "text/plain": [
       "[('Maths', 97), ('English', 88), ('Science', 90), ('Social sciences', 82)]"
      ]
     },
     "execution_count": 21,
     "metadata": {},
     "output_type": "execute_result"
    }
   ],
   "source": [
    "l = [('English', 88), ('Science', 90), ('Maths', 97), ('Social sciences', 82)]\n",
    "l.sort(key = lambda x: len(x[0]))\n",
    "l"
   ]
  },
  {
   "cell_type": "markdown",
   "id": "2e9cc26c-7384-4523-80ef-067c74e89f33",
   "metadata": {},
   "source": [
    "#### Write a Python program to sort a list of dictionaries using Lambda. The original list of dictionaries: according to 'color'"
   ]
  },
  {
   "cell_type": "code",
   "execution_count": 22,
   "id": "749a08b1-0a40-4c10-94f6-bce70c483a0c",
   "metadata": {},
   "outputs": [
    {
     "data": {
      "text/plain": [
       "[{'make': 'Nokia', 'model': 216, 'color': 'Black'},\n",
       " {'make': 'Samsung', 'model': 7, 'color': 'Blue'},\n",
       " {'make': 'Mi Max', 'model': '2', 'color': 'Gold'}]"
      ]
     },
     "execution_count": 22,
     "metadata": {},
     "output_type": "execute_result"
    }
   ],
   "source": [
    "l = [{'make': 'Nokia', 'model': 216, 'color': 'Black'}, {'make': 'Mi Max', 'model': '2', 'color': 'Gold'}, {'make': 'Samsung', 'model': 7, 'color': 'Blue'}]\n",
    "l.sort(key = lambda x : x['color'])\n",
    "l"
   ]
  },
  {
   "cell_type": "markdown",
   "id": "0e34fd61-59e5-4095-9d1a-30d54fe3a93c",
   "metadata": {},
   "source": [
    "# Filter function "
   ]
  },
  {
   "cell_type": "markdown",
   "id": "6a251288-1c7f-4cf9-a6ee-5537e1fde68b",
   "metadata": {},
   "source": [
    "The filter() method accepts two arguments in Python: a function and an iterable such as a list.\n",
    "\n",
    "The function is called for every item of the list, and a new iterable or list is returned that holds just those elements that returned True when supplied to the function."
   ]
  },
  {
   "cell_type": "markdown",
   "id": "02a6e08c-346b-4472-9bf3-4a7cb665af2d",
   "metadata": {},
   "source": [
    "**function:** A function that tests each element of the iterable. This function should return either `True` or `False`.\n",
    "\n",
    "* If the function returns `True` for an element, that element is included in the output.\n",
    "* If the function returns `False` for an element, that element is excluded from the output.\n",
    "**iterable:** The iterable whose elements are to be filtered. This can be any iterable object like a list, tuple, string, etc.\n",
    "\n",
    "**Result:** The filter() function returns an iterator (a filter object) containing only the elements for which the function returns True."
   ]
  },
  {
   "cell_type": "code",
   "execution_count": 23,
   "id": "37155e5d-0cec-482d-9814-b88bcf2f2392",
   "metadata": {},
   "outputs": [
    {
     "name": "stdout",
     "output_type": "stream",
     "text": [
      "The list of odd number is: [55, 121, 99, 55, 45, 43]\n"
     ]
    }
   ],
   "source": [
    "list_ = [55, 121, 99, 55, 45, 14, 43]      \n",
    "odd_list = list(filter( lambda num: (num % 2 != 0) , list_ ))      \n",
    "print('The list of odd number is:',odd_list)    "
   ]
  },
  {
   "cell_type": "markdown",
   "id": "eb9957b0-c036-4da5-9023-197d0e651187",
   "metadata": {},
   "source": [
    "#### using normal function"
   ]
  },
  {
   "cell_type": "code",
   "execution_count": 43,
   "id": "b6aba49e-2200-44cb-bc5b-a94d2c28bd3b",
   "metadata": {},
   "outputs": [
    {
     "name": "stdout",
     "output_type": "stream",
     "text": [
      "[55, 121, 99, 55, 45, 43]\n"
     ]
    }
   ],
   "source": [
    "list_ = [55, 121, 99, 55, 45, 14, 43] \n",
    "def odd(x):\n",
    "        return x % 2 == 1\n",
    "odd_list = list(filter ( odd,list_))\n",
    "print(odd_list)"
   ]
  },
  {
   "cell_type": "markdown",
   "id": "87ae67a5-199c-4242-9324-6ac938ed9bc5",
   "metadata": {},
   "source": [
    "We can also "
   ]
  },
  {
   "cell_type": "code",
   "execution_count": 24,
   "id": "89be8206-911b-40dd-aecb-ba992b053e05",
   "metadata": {},
   "outputs": [
    {
     "name": "stdout",
     "output_type": "stream",
     "text": [
      "The list of odd number is: [55, 121, 99, 55, 45, 43]\n"
     ]
    }
   ],
   "source": [
    "list_ = [55, 121, 99, 55, 45, 14, 43]      \n",
    "odd_list = filter( lambda num: (num % 2 != 0) , list_ )      \n",
    "print('The list of odd number is:',list(odd_list))    "
   ]
  },
  {
   "cell_type": "markdown",
   "id": "1b2a1eab-7084-407f-88bf-9a5e436a3bbb",
   "metadata": {},
   "source": [
    "# Map function "
   ]
  },
  {
   "cell_type": "markdown",
   "id": "d8d704d3-c840-4432-935b-493b41ffda32",
   "metadata": {},
   "source": [
    "\n",
    "The `map()` function in Python applies a given function to each item of an iterable (like a list, tuple, etc.) and returns a map object (which is an iterator). You can convert this map object into a list, tuple, or other types of sequences if needed."
   ]
  },
  {
   "cell_type": "markdown",
   "id": "ca5f4a5b-2b46-46ab-a5a1-d6521f94d5c0",
   "metadata": {},
   "source": [
    "#### Here's a point-wise breakdown of how map() works:"
   ]
  },
  {
   "cell_type": "markdown",
   "id": "486d8b75-1989-4d6a-912b-9e0afff8bce2",
   "metadata": {},
   "source": [
    "**Function Application:** \n",
    "\n",
    "The map() function takes a function as its first argument. This function is applied to each item in the iterable(s) provided as the subsequent argument(s).\n",
    "\n",
    "**Single Iterable:** \n",
    "\n",
    "If there is only one iterable, the function passed to map() is applied to each item in that iterable."
   ]
  },
  {
   "cell_type": "markdown",
   "id": "dd5218d7-0c05-4953-a2b5-3cebd7370801",
   "metadata": {},
   "source": [
    "#### Syntax:"
   ]
  },
  {
   "cell_type": "code",
   "execution_count": null,
   "id": "ebf0368f-0448-41e5-ab8d-3bd3ac854ada",
   "metadata": {},
   "outputs": [],
   "source": [
    "map(function, iterable, ...)"
   ]
  },
  {
   "cell_type": "code",
   "execution_count": 44,
   "id": "cc436aef-181a-4bed-9d60-a5e3e1b6494d",
   "metadata": {},
   "outputs": [
    {
     "name": "stdout",
     "output_type": "stream",
     "text": [
      "[2, 4, 6, 8]\n"
     ]
    }
   ],
   "source": [
    "def square(x):\n",
    "    return x * 2\n",
    "result = map(square, [1, 2, 3, 4])\n",
    "print(list(result))  # Output: [2, 4, 6, 8]\n"
   ]
  },
  {
   "cell_type": "markdown",
   "id": "31bff7d0-cc98-45f6-aabf-7518da11f163",
   "metadata": {},
   "source": [
    "**Multiple Iterables:** \n",
    "\n",
    "If there are multiple iterables, the function should accept that many arguments, and it will be applied to the items of the iterables taken in parallel. The iteration stops when the shortest iterable is exhausted."
   ]
  },
  {
   "cell_type": "code",
   "execution_count": 45,
   "id": "bcc68b73-8c72-466e-9e1a-782929cb45d6",
   "metadata": {},
   "outputs": [
    {
     "name": "stdout",
     "output_type": "stream",
     "text": [
      "[5, 7, 9]\n"
     ]
    }
   ],
   "source": [
    "def add(x, y):\n",
    "    return x + y\n",
    "result = map(add, [1, 2, 3], [4, 5, 6])\n",
    "print(list(result))  # Output: [5, 7, 9]"
   ]
  },
  {
   "cell_type": "markdown",
   "id": "25f3bba8-42f2-47d9-9d34-8c9bc8e99e3a",
   "metadata": {},
   "source": [
    "**Lazy Evaluation:** \n",
    "\n",
    "The map() function returns a map object, which is an iterator. This means the function is not immediately applied to the items; instead, the function is applied as you iterate through the map object."
   ]
  },
  {
   "cell_type": "code",
   "execution_count": 49,
   "id": "a791007a-2804-41a3-a5d1-da144b145a7d",
   "metadata": {},
   "outputs": [
    {
     "name": "stdout",
     "output_type": "stream",
     "text": [
      "[11, 21, 31]\n"
     ]
    }
   ],
   "source": [
    "def increment(x):\n",
    "    return x + 1\n",
    "result = map(increment, [10, 20, 30])\n",
    "# At this point, the function has not yet been applied.\n",
    "print(list(result))  # Output: [11, 21, 31]"
   ]
  },
  {
   "cell_type": "markdown",
   "id": "ae5e1e75-07c5-44a4-9b65-38f4736d2d5a",
   "metadata": {},
   "source": [
    "#### Create the cube list of a list using map function"
   ]
  },
  {
   "cell_type": "code",
   "execution_count": 51,
   "id": "c249dab3-038e-47ac-89d7-c1224f71219a",
   "metadata": {},
   "outputs": [
    {
     "name": "stdout",
     "output_type": "stream",
     "text": [
      "[1728, 8, 27, 216, 512, 729, 343, 64, 125, 8, 512]\n"
     ]
    }
   ],
   "source": [
    "list_ = [12,2,3,6,8,9,7,4,5,2,8]\n",
    "cube = list(map(lambda x : x*x*x, list_))\n",
    "print(cube)"
   ]
  },
  {
   "cell_type": "markdown",
   "id": "8d7a010d-635f-4637-b8ee-9a4869533530",
   "metadata": {},
   "source": [
    "#### Create the cube list of a list using map function"
   ]
  },
  {
   "cell_type": "code",
   "execution_count": 52,
   "id": "40207616-88d3-4e0b-9cd5-cc47d8b53e49",
   "metadata": {},
   "outputs": [
    {
     "name": "stdout",
     "output_type": "stream",
     "text": [
      "[144, 4, 9, 36, 64, 81, 49, 16, 25, 4, 64]\n"
     ]
    }
   ],
   "source": [
    "list_ = [12,2,3,6,8,9,7,4,5,2,8]\n",
    "cube = list(map(lambda x : x*x, list_))\n",
    "print(cube)"
   ]
  },
  {
   "cell_type": "markdown",
   "id": "8e5aeddb-11f9-450f-a899-fef4624c22c1",
   "metadata": {},
   "source": [
    "#### Count the total even number from the range 1 to 30"
   ]
  },
  {
   "cell_type": "code",
   "execution_count": 63,
   "id": "a031ab51-1b89-4455-961a-d4e619681572",
   "metadata": {},
   "outputs": [
    {
     "name": "stdout",
     "output_type": "stream",
     "text": [
      "15\n"
     ]
    }
   ],
   "source": [
    "even = list(map(lambda x : x % 2 == 0, range(1,31)))\n",
    "print(sum(list(even)))"
   ]
  },
  {
   "cell_type": "markdown",
   "id": "1e19c30a-c999-4518-a9b7-bbb351a91513",
   "metadata": {},
   "source": [
    "# Reduce function"
   ]
  },
  {
   "cell_type": "markdown",
   "id": "7f39ead3-3997-439a-a3cf-6d31abd9b170",
   "metadata": {},
   "source": [
    "The `reduce()` function in Python is used to apply a binary function (a function that takes two arguments) cumulatively to the items of an iterable (like a list) from left to right, reducing the iterable to a single value. It is part of the functools module, so you need to import it before using it."
   ]
  },
  {
   "cell_type": "code",
   "execution_count": null,
   "id": "0f46e030-7676-45ff-808a-e2406c89d8aa",
   "metadata": {},
   "outputs": [],
   "source": [
    "from functools import reduce\n",
    "\n",
    "reduce(function, iterable, initializer=None)"
   ]
  },
  {
   "cell_type": "markdown",
   "id": "4a166460-f664-43d7-a4af-43ea8d9869ec",
   "metadata": {},
   "source": [
    "**function:** \n",
    "\n",
    "A function that takes two arguments and returns a single value. This function is applied cumulatively to the items of the iterable.\n",
    "\n",
    "**iterable:** \n",
    "\n",
    "An iterable (e.g., a list or tuple) whose elements are to be processed by the function.\n",
    "\n",
    "**initializer** (optional): \n",
    "\n",
    "If provided, this value is placed before the items of the iterable in the calculation and serves as a starting value."
   ]
  },
  {
   "cell_type": "markdown",
   "id": "3d0ecd7b-51e7-45cd-aa26-583c6fb189dd",
   "metadata": {},
   "source": [
    "#### How reduce() Works:"
   ]
  },
  {
   "cell_type": "markdown",
   "id": "529d731b-9339-43a8-bf46-27e904c9d3e5",
   "metadata": {},
   "source": [
    "* The function is applied to the first two elements of the iterable.\n",
    "* The result of that function call is then combined with the next element of the iterable using the same function.\n",
    "* This process continues until all elements have been combined, reducing the iterable to a single cumulative value."
   ]
  },
  {
   "cell_type": "code",
   "execution_count": 66,
   "id": "cb413fac-228a-4b02-87d0-3201026577e8",
   "metadata": {},
   "outputs": [
    {
     "name": "stdout",
     "output_type": "stream",
     "text": [
      "15\n",
      "120\n",
      "25\n"
     ]
    }
   ],
   "source": [
    "from functools import reduce\n",
    "\n",
    "# Example 1: Summing all elements of a list\n",
    "numbers = [1, 2, 3, 4, 5]\n",
    "sum_result = reduce(lambda x, y: x + y, numbers)\n",
    "print(sum_result)  # Output: 15\n",
    "\n",
    "# Example 2: Finding the product of all elements in a list\n",
    "product_result = reduce(lambda x, y: x * y, numbers)\n",
    "print(product_result)  # Output: 120\n",
    "\n",
    "# Example 3: Using an initializer\n",
    "# Summing all elements of a list with an initializer\n",
    "sum_with_init = reduce(lambda x, y: x + y, numbers, 10)\n",
    "print(sum_with_init)  # Output: 25 (10 + 1 + 2 + 3 + 4 + 5)\n"
   ]
  }
 ],
 "metadata": {
  "kernelspec": {
   "display_name": "Python 3 (ipykernel)",
   "language": "python",
   "name": "python3"
  },
  "language_info": {
   "codemirror_mode": {
    "name": "ipython",
    "version": 3
   },
   "file_extension": ".py",
   "mimetype": "text/x-python",
   "name": "python",
   "nbconvert_exporter": "python",
   "pygments_lexer": "ipython3",
   "version": "3.12.4"
  }
 },
 "nbformat": 4,
 "nbformat_minor": 5
}
