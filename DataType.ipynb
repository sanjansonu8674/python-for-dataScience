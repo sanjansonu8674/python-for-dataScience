{
 "cells": [
  {
   "cell_type": "markdown",
   "id": "2e44af2b-56b2-4952-ae8c-ab94daa4b2ca",
   "metadata": {},
   "source": [
    "## Data Type:"
   ]
  },
  {
   "cell_type": "markdown",
   "id": "f8c2e6b8-1ecc-41a5-8072-507a2126641c",
   "metadata": {},
   "source": [
    "data type is nothing it is represent the which type of data are store in container or variable"
   ]
  },
  {
   "cell_type": "markdown",
   "id": "48d8f5d9-2a7d-4308-b464-fc6a2f3d7538",
   "metadata": {},
   "source": [
    "#### There are categories of datatype"
   ]
  },
  {
   "cell_type": "markdown",
   "id": "36872cf1-a10e-43e2-871f-1261994f62b9",
   "metadata": {},
   "source": [
    "1. Numeric Types\n",
    "2. Boolean Type\n",
    "3. Sequence Types\n",
    "4. Set Types\n",
    "5. Mapping Type\n",
    "6. None Type"
   ]
  },
  {
   "cell_type": "markdown",
   "id": "86036373-c0bd-4be3-8826-a25ee03da273",
   "metadata": {},
   "source": [
    "There are categories of Numeric Type"
   ]
  },
  {
   "cell_type": "markdown",
   "id": "5f2ac3d4-0525-4d5b-a01d-fc8f3a018daf",
   "metadata": {},
   "source": [
    "1. int\n",
    "2. float\n",
    "3. complex"
   ]
  },
  {
   "cell_type": "markdown",
   "id": "9335b37d-d78c-49fb-b523-ca18c0d630b2",
   "metadata": {},
   "source": []
  },
  {
   "cell_type": "markdown",
   "id": "d1875828-997a-4f74-a346-d13335eaafdf",
   "metadata": {},
   "source": [
    "There are categories of Boolean Type"
   ]
  },
  {
   "cell_type": "markdown",
   "id": "9c4927d2-0dd8-4c6b-a843-fcfdccac5dc1",
   "metadata": {},
   "source": [
    "1. bool"
   ]
  },
  {
   "cell_type": "markdown",
   "id": "6cb2e030-2f7f-44e5-a844-c6759963d9b4",
   "metadata": {},
   "source": [
    "there are categories of Sequence Type"
   ]
  },
  {
   "cell_type": "markdown",
   "id": "17619ac5-7a8e-4359-a38e-b5672d7a947b",
   "metadata": {},
   "source": [
    "1. str\n",
    "2. list\n",
    "3. bytes\n",
    "4. bytearray\n",
    "5. typle\n",
    "6. range"
   ]
  },
  {
   "cell_type": "markdown",
   "id": "18eb06d6-4ad8-48f5-87ca-8bddc1c94ab6",
   "metadata": {},
   "source": [
    "there are categories of set type"
   ]
  },
  {
   "cell_type": "markdown",
   "id": "5d17f382-88c2-4540-9586-5a9d5f587266",
   "metadata": {},
   "source": [
    "1. set\n",
    "2. frozenset"
   ]
  },
  {
   "cell_type": "markdown",
   "id": "a614d4fb-4c46-4175-a298-8db0d52fed93",
   "metadata": {},
   "source": [
    "Mapping Type "
   ]
  },
  {
   "cell_type": "markdown",
   "id": "9a3a24a5-ceae-4f7c-a803-cbf73f800472",
   "metadata": {},
   "source": [
    "1. dict "
   ]
  },
  {
   "cell_type": "markdown",
   "id": "2eb4b8d6-115c-4636-803b-f77afff36249",
   "metadata": {},
   "source": [
    "None Type"
   ]
  },
  {
   "cell_type": "markdown",
   "id": "67025e05-e61d-4f00-93df-e7144c5eda5a",
   "metadata": {},
   "source": [
    "1. None Type"
   ]
  },
  {
   "cell_type": "code",
   "execution_count": 1,
   "id": "e6e57972-5287-4a23-a167-8fbdd1e7e766",
   "metadata": {},
   "outputs": [],
   "source": [
    "a = 10 "
   ]
  },
  {
   "cell_type": "code",
   "execution_count": 2,
   "id": "a73d42bc-c66a-4759-beba-855948be0de3",
   "metadata": {},
   "outputs": [
    {
     "data": {
      "text/plain": [
       "int"
      ]
     },
     "execution_count": 2,
     "metadata": {},
     "output_type": "execute_result"
    }
   ],
   "source": [
    " type(a)"
   ]
  },
  {
   "cell_type": "code",
   "execution_count": 3,
   "id": "a4819779-7bf7-4810-89a9-b7452ecc76b6",
   "metadata": {},
   "outputs": [
    {
     "data": {
      "text/plain": [
       "float"
      ]
     },
     "execution_count": 3,
     "metadata": {},
     "output_type": "execute_result"
    }
   ],
   "source": [
    "b = 10.45\n",
    "type(b)"
   ]
  },
  {
   "cell_type": "code",
   "execution_count": 4,
   "id": "3e71e09a-ef63-495e-8852-2c7954b75852",
   "metadata": {},
   "outputs": [
    {
     "data": {
      "text/plain": [
       "str"
      ]
     },
     "execution_count": 4,
     "metadata": {},
     "output_type": "execute_result"
    }
   ],
   "source": [
    "c = \"sanjan\"\n",
    "type(c)"
   ]
  },
  {
   "cell_type": "code",
   "execution_count": 5,
   "id": "0f493ddc-2f2c-4770-a84c-e9a629980965",
   "metadata": {},
   "outputs": [
    {
     "data": {
      "text/plain": [
       "str"
      ]
     },
     "execution_count": 5,
     "metadata": {},
     "output_type": "execute_result"
    }
   ],
   "source": [
    "c = \"A\"\n",
    "type(c)"
   ]
  },
  {
   "cell_type": "code",
   "execution_count": 6,
   "id": "478e43bf-3041-4c65-bab7-d5528c2a428c",
   "metadata": {},
   "outputs": [],
   "source": [
    "a = 12345678903467436834783487347"
   ]
  },
  {
   "cell_type": "code",
   "execution_count": 7,
   "id": "41806287-e8ee-4809-afc3-95a73486dabb",
   "metadata": {},
   "outputs": [
    {
     "data": {
      "text/plain": [
       "int"
      ]
     },
     "execution_count": 7,
     "metadata": {},
     "output_type": "execute_result"
    }
   ],
   "source": [
    "type(a)"
   ]
  },
  {
   "cell_type": "markdown",
   "id": "94b28435-5541-4b24-92d7-ccb5acac9b05",
   "metadata": {},
   "source": [
    "#### Important points regarding Python's data types"
   ]
  },
  {
   "cell_type": "markdown",
   "id": "945618e9-d235-471e-a469-2cf7b11f344b",
   "metadata": {},
   "source": [
    "1. Data type in python are **dynamic**\n",
    "2. size of the data type is also **dynamically managed**\n",
    "3. data types are **unbounded**"
   ]
  },
  {
   "cell_type": "markdown",
   "id": "ad21ba49-8daa-481c-b44e-795eaf84598c",
   "metadata": {},
   "source": [
    "#### Data types in python are dynamic"
   ]
  },
  {
   "cell_type": "markdown",
   "id": "ad9a6093-343c-4a34-8f3c-97427e5b1d30",
   "metadata": {},
   "source": [
    "* The term **dynamic** means that we can assign different values to the same variable at different points of time\n",
    "\n",
    "* Python will **dynamically change** the type of variable as per the value given"
   ]
  },
  {
   "cell_type": "markdown",
   "id": "aec72bec-b693-43a3-8de1-e863a48051e9",
   "metadata": {},
   "source": [
    "there is no need of defining types of variable. we can directly variable and assign value it automatically dedict "
   ]
  },
  {
   "cell_type": "markdown",
   "id": "e601949b-5e8b-4c72-8ba4-fc4ccd693a0e",
   "metadata": {},
   "source": [
    "if you want to create **statical variable** you can "
   ]
  },
  {
   "cell_type": "code",
   "execution_count": 2,
   "id": "06fd6657-1e47-421e-a3d8-69a21d8ee792",
   "metadata": {},
   "outputs": [
    {
     "name": "stdout",
     "output_type": "stream",
     "text": [
      "89\n"
     ]
    }
   ],
   "source": [
    "a: int = 89\n",
    "print(a)"
   ]
  },
  {
   "cell_type": "code",
   "execution_count": 3,
   "id": "bbd34f68-5e1b-4182-b148-9fa033308a27",
   "metadata": {},
   "outputs": [
    {
     "name": "stdout",
     "output_type": "stream",
     "text": [
      " your age is 20 and name is sanjan pandit\n"
     ]
    }
   ],
   "source": [
    "age: int = 20\n",
    "name: str = \"sanjan pandit\"\n",
    "print(f' your age is {age} and name is {name}')"
   ]
  },
  {
   "cell_type": "markdown",
   "id": "101de0ab-fcc4-4bac-9d67-4dd46ba7e419",
   "metadata": {},
   "source": [
    "There is no predefine size of datatype"
   ]
  },
  {
   "cell_type": "code",
   "execution_count": 9,
   "id": "30a20086-3243-4b84-b6a7-f224ec7cbe00",
   "metadata": {},
   "outputs": [
    {
     "data": {
      "text/plain": [
       "28"
      ]
     },
     "execution_count": 9,
     "metadata": {},
     "output_type": "execute_result"
    }
   ],
   "source": [
    "import sys\n",
    "a = 2\n",
    "sys.getsizeof(a)"
   ]
  },
  {
   "cell_type": "code",
   "execution_count": 10,
   "id": "3b764799-c2ce-43e3-b043-6beb6afeb55d",
   "metadata": {},
   "outputs": [
    {
     "data": {
      "text/plain": [
       "28"
      ]
     },
     "execution_count": 10,
     "metadata": {},
     "output_type": "execute_result"
    }
   ],
   "source": [
    "a = 200\n",
    "sys.getsizeof(a)"
   ]
  },
  {
   "cell_type": "code",
   "execution_count": 11,
   "id": "bd87a424-117f-43d8-8ef6-93f3efb39cad",
   "metadata": {},
   "outputs": [
    {
     "data": {
      "text/plain": [
       "36"
      ]
     },
     "execution_count": 11,
     "metadata": {},
     "output_type": "execute_result"
    }
   ],
   "source": [
    "a = 258866558544558855995\n",
    "sys.getsizeof(a)"
   ]
  },
  {
   "cell_type": "code",
   "execution_count": 12,
   "id": "ca894953-2c06-4d5f-b753-794b4419c665",
   "metadata": {},
   "outputs": [
    {
     "data": {
      "text/plain": [
       "44"
      ]
     },
     "execution_count": 12,
     "metadata": {},
     "output_type": "execute_result"
    }
   ],
   "source": [
    "a = 2588665585445588559958595889555789559\n",
    "sys.getsizeof(a)"
   ]
  },
  {
   "cell_type": "markdown",
   "id": "9e0114de-49b3-4a25-a84a-3e814a5bd6ff",
   "metadata": {},
   "source": [
    "### Boolean Type"
   ]
  },
  {
   "cell_type": "markdown",
   "id": "dbd96599-7211-4473-acd2-a389f786e0bd",
   "metadata": {},
   "source": [
    "It has only two values True and False. True is treated as 1 and False is treated as 0"
   ]
  },
  {
   "cell_type": "code",
   "execution_count": 13,
   "id": "e6a0e53b-4009-44ee-856c-787af882aa90",
   "metadata": {},
   "outputs": [
    {
     "data": {
      "text/plain": [
       "3"
      ]
     },
     "execution_count": 13,
     "metadata": {},
     "output_type": "execute_result"
    }
   ],
   "source": [
    "True + True + True"
   ]
  },
  {
   "cell_type": "code",
   "execution_count": 14,
   "id": "02fe30c8-8617-4a64-af6f-f9ac787ae141",
   "metadata": {},
   "outputs": [
    {
     "data": {
      "text/plain": [
       "1"
      ]
     },
     "execution_count": 14,
     "metadata": {},
     "output_type": "execute_result"
    }
   ],
   "source": [
    "True + False"
   ]
  },
  {
   "cell_type": "code",
   "execution_count": 15,
   "id": "8ca1a825-4739-420b-8460-2f5d52ee2480",
   "metadata": {},
   "outputs": [
    {
     "data": {
      "text/plain": [
       "0"
      ]
     },
     "execution_count": 15,
     "metadata": {},
     "output_type": "execute_result"
    }
   ],
   "source": [
    "False + False "
   ]
  },
  {
   "cell_type": "code",
   "execution_count": 16,
   "id": "bf294bb3-47eb-49cd-8fd4-a31a20cf45d2",
   "metadata": {},
   "outputs": [
    {
     "data": {
      "text/plain": [
       "True"
      ]
     },
     "execution_count": 16,
     "metadata": {},
     "output_type": "execute_result"
    }
   ],
   "source": [
    "True & True"
   ]
  },
  {
   "cell_type": "code",
   "execution_count": 17,
   "id": "c95981cb-baf2-423a-a37e-bf80b5cfa10a",
   "metadata": {},
   "outputs": [
    {
     "data": {
      "text/plain": [
       "False"
      ]
     },
     "execution_count": 17,
     "metadata": {},
     "output_type": "execute_result"
    }
   ],
   "source": [
    "True & False"
   ]
  },
  {
   "cell_type": "code",
   "execution_count": 18,
   "id": "a9165a1a-274f-45bc-a325-6a553a49be27",
   "metadata": {},
   "outputs": [
    {
     "data": {
      "text/plain": [
       "False"
      ]
     },
     "execution_count": 18,
     "metadata": {},
     "output_type": "execute_result"
    }
   ],
   "source": [
    "False & False"
   ]
  },
  {
   "cell_type": "code",
   "execution_count": 19,
   "id": "16ee16f9-4148-48b5-a343-2abf93a4f0bc",
   "metadata": {},
   "outputs": [
    {
     "data": {
      "text/plain": [
       "True"
      ]
     },
     "execution_count": 19,
     "metadata": {},
     "output_type": "execute_result"
    }
   ],
   "source": [
    "True | False"
   ]
  },
  {
   "cell_type": "code",
   "execution_count": 20,
   "id": "4bccc0d7-19fa-4829-8def-60719e201518",
   "metadata": {},
   "outputs": [
    {
     "data": {
      "text/plain": [
       "False"
      ]
     },
     "execution_count": 20,
     "metadata": {},
     "output_type": "execute_result"
    }
   ],
   "source": [
    "False | False"
   ]
  },
  {
   "cell_type": "markdown",
   "id": "4990addb-a004-40eb-9c22-ce49bc679c16",
   "metadata": {},
   "source": [
    "### String"
   ]
  },
  {
   "cell_type": "markdown",
   "id": "fe6b4a5b-5240-4a50-a0dc-2dc2d638bd86",
   "metadata": {},
   "source": [
    "* *String* is a collection of characters\n",
    "* We can use **single quotes** or **double-quotes** to represent strings\n"
   ]
  },
  {
   "cell_type": "code",
   "execution_count": 21,
   "id": "ae7313f2-6821-473e-9707-8d1a861237a1",
   "metadata": {},
   "outputs": [
    {
     "data": {
      "text/plain": [
       "str"
      ]
     },
     "execution_count": 21,
     "metadata": {},
     "output_type": "execute_result"
    }
   ],
   "source": [
    "a = \"sanjan pandit\"\n",
    "type(a)"
   ]
  },
  {
   "cell_type": "code",
   "execution_count": 22,
   "id": "3ab19039-a88a-44b7-a2c7-c6639929b767",
   "metadata": {},
   "outputs": [
    {
     "data": {
      "text/plain": [
       "'sanjan pandit'"
      ]
     },
     "execution_count": 22,
     "metadata": {},
     "output_type": "execute_result"
    }
   ],
   "source": [
    "a"
   ]
  },
  {
   "cell_type": "markdown",
   "id": "727a873f-9921-41bd-a429-b535de28ed85",
   "metadata": {},
   "source": [
    "if we start defining a **string** with a single quote then definitely close with a single quote and also vice versa otherwise get **syntax error**"
   ]
  },
  {
   "cell_type": "code",
   "execution_count": 23,
   "id": "d05bb94d-ec5d-4b6f-b19f-6080ac254968",
   "metadata": {},
   "outputs": [
    {
     "ename": "SyntaxError",
     "evalue": "unterminated string literal (detected at line 1) (2262117342.py, line 1)",
     "output_type": "error",
     "traceback": [
      "\u001b[1;36m  Cell \u001b[1;32mIn[23], line 1\u001b[1;36m\u001b[0m\n\u001b[1;33m    a = \" sanjan '\u001b[0m\n\u001b[1;37m        ^\u001b[0m\n\u001b[1;31mSyntaxError\u001b[0m\u001b[1;31m:\u001b[0m unterminated string literal (detected at line 1)\n"
     ]
    }
   ],
   "source": [
    "a = \" sanjan '\n",
    "a"
   ]
  },
  {
   "cell_type": "code",
   "execution_count": 5,
   "id": "1b9f547d-28da-4182-975d-ff4858e686a7",
   "metadata": {},
   "outputs": [
    {
     "name": "stdout",
     "output_type": "stream",
     "text": [
      "let's learn \"python\"\n"
     ]
    }
   ],
   "source": [
    "a = '''let's learn \"python\"'''\n",
    "print(a)"
   ]
  },
  {
   "cell_type": "markdown",
   "id": "207196b4-614d-4614-94ea-6daea393c0e7",
   "metadata": {},
   "source": [
    "Multiline string"
   ]
  },
  {
   "cell_type": "code",
   "execution_count": 25,
   "id": "1fb330b8-1714-4308-8559-3e0ed1ac2ba6",
   "metadata": {},
   "outputs": [
    {
     "name": "stdout",
     "output_type": "stream",
     "text": [
      "        my\n",
      "        name\n",
      "        is \n",
      "        sanjan\n"
     ]
    }
   ],
   "source": [
    "a = \"\"\"        my\n",
    "        name\n",
    "        is \n",
    "        sanjan\"\"\"\n",
    "print(a)"
   ]
  },
  {
   "cell_type": "markdown",
   "id": "1a5af187-f95c-4776-88d4-2e698472d87a",
   "metadata": {},
   "source": [
    "# Type conversion"
   ]
  },
  {
   "cell_type": "markdown",
   "id": "6e2d4546-07b8-46aa-9920-e70360b8b8d3",
   "metadata": {},
   "source": [
    "The process of converting the value of one data type ( integer, string, float, etc) to another data type is called Type Conversion"
   ]
  },
  {
   "cell_type": "markdown",
   "id": "64aed296-a462-47a3-9a6c-ef8aae5be60e",
   "metadata": {},
   "source": [
    "Python has two types of type conversion"
   ]
  },
  {
   "cell_type": "markdown",
   "id": "5e629fc2-706f-4b59-b9b3-123865198e65",
   "metadata": {},
   "source": [
    "* Implicit Type Conversion\n",
    "* Explicit Type Conversion"
   ]
  },
  {
   "cell_type": "markdown",
   "id": "c4fd2481-801f-4e7b-af2f-a265033a1429",
   "metadata": {},
   "source": [
    "**Implicit Type Conversion:** Automatically converts one data type to another data type"
   ]
  },
  {
   "cell_type": "markdown",
   "id": "2a9feab0-e4b1-435d-bda4-0d721ee2e44d",
   "metadata": {},
   "source": [
    "* This process doesn't need any programmer involvement\n",
    "* let's see an example where python promotes conversion of **int** to **float**"
   ]
  },
  {
   "cell_type": "code",
   "execution_count": 7,
   "id": "fcf9e0eb-d212-45ba-8cfc-b4b26b55be41",
   "metadata": {},
   "outputs": [
    {
     "name": "stdout",
     "output_type": "stream",
     "text": [
      "30.4\n"
     ]
    },
    {
     "data": {
      "text/plain": [
       "float"
      ]
     },
     "execution_count": 7,
     "metadata": {},
     "output_type": "execute_result"
    }
   ],
   "source": [
    "a = 10\n",
    "b = 20.4\n",
    "c = a + b\n",
    "print(c)\n",
    "type(c)"
   ]
  },
  {
   "cell_type": "markdown",
   "id": "e4587156-fabb-41b3-9476-618ec50b08c7",
   "metadata": {},
   "source": [
    "here above example python automatically covert **a** in float"
   ]
  },
  {
   "cell_type": "markdown",
   "id": "95d92f39-c9a3-4426-870d-52fae4326483",
   "metadata": {},
   "source": [
    "**Explicit Type Conversion:** convert by the user or programmer one type to another type"
   ]
  },
  {
   "cell_type": "code",
   "execution_count": 27,
   "id": "6fbd13d2-85cb-49ce-83cb-ed38af1435cb",
   "metadata": {},
   "outputs": [
    {
     "data": {
      "text/plain": [
       "int"
      ]
     },
     "execution_count": 27,
     "metadata": {},
     "output_type": "execute_result"
    }
   ],
   "source": [
    "a = 10\n",
    "type(a)"
   ]
  },
  {
   "cell_type": "code",
   "execution_count": 28,
   "id": "4b9fe15b-9261-43b5-be7c-38232469e5eb",
   "metadata": {},
   "outputs": [
    {
     "name": "stdout",
     "output_type": "stream",
     "text": [
      "10.0\n"
     ]
    }
   ],
   "source": [
    "b = float(a)\n",
    "print(b)"
   ]
  },
  {
   "cell_type": "code",
   "execution_count": 29,
   "id": "719b15a6-ecc3-4bd4-9ba9-3d545e360f85",
   "metadata": {},
   "outputs": [
    {
     "name": "stdout",
     "output_type": "stream",
     "text": [
      "1020\n"
     ]
    }
   ],
   "source": [
    "a = '10'\n",
    "b = '20'\n",
    "print(a+b)"
   ]
  },
  {
   "cell_type": "code",
   "execution_count": 30,
   "id": "7fd758ef-82c1-48b5-b22c-4d9b027e73c3",
   "metadata": {},
   "outputs": [
    {
     "name": "stdout",
     "output_type": "stream",
     "text": [
      "30\n"
     ]
    }
   ],
   "source": [
    "print(int(a)+int(b))"
   ]
  },
  {
   "cell_type": "markdown",
   "id": "9868d535-2900-4f39-bcd9-5bcb314e8556",
   "metadata": {},
   "source": [
    "#### You have to take two input from the user and have to substract it"
   ]
  },
  {
   "cell_type": "code",
   "execution_count": 3,
   "id": "2d18255f-78a8-4b3b-ae4d-9a5ac270a2c6",
   "metadata": {},
   "outputs": [
    {
     "name": "stdin",
     "output_type": "stream",
     "text": [
      "Enter first number 70\n",
      "Enter 2nd number 70\n"
     ]
    },
    {
     "name": "stdout",
     "output_type": "stream",
     "text": [
      "The sum is 140\n"
     ]
    }
   ],
   "source": [
    "a = eval(input(\"Enter first number\"))\n",
    "b = eval(input(\"Enter 2nd number\"))\n",
    "print(f\"The sum is {a + b}\")"
   ]
  },
  {
   "cell_type": "markdown",
   "id": "7e59d3c5-8c4b-42bd-b7a4-f5c10dee657d",
   "metadata": {},
   "source": [
    "### Sequence Type"
   ]
  },
  {
   "cell_type": "markdown",
   "id": "5dbe965b-3adf-47ff-bcad-3c9227250025",
   "metadata": {},
   "source": [
    "sequence types are built-in data structures that represent a collection of items, typically in a specific order."
   ]
  },
  {
   "cell_type": "markdown",
   "id": "7c44bf03-a502-45ab-827f-799334e73000",
   "metadata": {},
   "source": [
    "1. List\n",
    "2. Tupple\n",
    "3. Set\n",
    "4. Range"
   ]
  },
  {
   "cell_type": "markdown",
   "id": "e2cc98cb-3272-421a-a819-40b2e6fbe2e5",
   "metadata": {},
   "source": [
    "### 1. List"
   ]
  },
  {
   "cell_type": "markdown",
   "id": "81fd647a-27a1-4512-b54b-01275f8832b0",
   "metadata": {},
   "source": [
    "A list in Python is an ordered, mutable sequence of elements, which means the elements can be changed, added, or removed after the list has been created. Lists are one of the most commonly used data types in Python due to their flexibility and versatility."
   ]
  },
  {
   "cell_type": "markdown",
   "id": "743ff234-ff48-4318-8eca-1cf54cee45f3",
   "metadata": {},
   "source": [
    "#### Syntax"
   ]
  },
  {
   "cell_type": "markdown",
   "id": "148127e9-d3a6-496a-9570-983ccf3e6475",
   "metadata": {},
   "source": [
    "[Item1,Item2,Item3,......]"
   ]
  },
  {
   "cell_type": "markdown",
   "id": "9c09e379-7e8b-4557-9a06-b71617d34777",
   "metadata": {},
   "source": [
    "### Operation\n",
    "     1. Indexing, \n",
    "     2. slicing, \n",
    "     3. concatenation, \n",
    "     4. repetition, etc."
   ]
  },
  {
   "cell_type": "code",
   "execution_count": 7,
   "id": "8542b904-f046-46ca-a70b-c2cafcc89c0f",
   "metadata": {},
   "outputs": [
    {
     "name": "stdout",
     "output_type": "stream",
     "text": [
      "['Fruits', 5, 8.5, True]\n"
     ]
    }
   ],
   "source": [
    "list = ['Fruits',5,8.5,True]\n",
    "print(list)"
   ]
  },
  {
   "cell_type": "markdown",
   "id": "98503c31-0e48-4658-9eda-6035e04604b9",
   "metadata": {},
   "source": [
    "### Tuple"
   ]
  },
  {
   "cell_type": "markdown",
   "id": "aa353deb-abea-4edd-95b3-9647a6017349",
   "metadata": {},
   "source": [
    "A tuple in Python is an immutable, ordered collection of items. Unlike lists, which are mutable, tuples cannot be changed after they are created. Tuples are typically used to store collections of heterogeneous data, meaning they can contain items of different types"
   ]
  },
  {
   "cell_type": "markdown",
   "id": "141ea596-2ff4-4cde-bbc7-891c6f5cc105",
   "metadata": {},
   "source": [
    "#### Syntax"
   ]
  },
  {
   "cell_type": "markdown",
   "id": "60c32f45-d440-4a5f-9b9f-b7a37aba8a41",
   "metadata": {},
   "source": [
    "tuple = (6,\"string\",6.7,True) or\n",
    "\n",
    "tuple =1, 2, 3, 'a', 'b', 'c'"
   ]
  },
  {
   "cell_type": "markdown",
   "id": "e827cf0b-c57e-4ff9-a108-c8671b3ed01d",
   "metadata": {},
   "source": [
    "### Operations:"
   ]
  },
  {
   "cell_type": "markdown",
   "id": "d7d296e4-824c-45bf-a5c9-b63623d3c053",
   "metadata": {},
   "source": [
    "1. Concatenation:\n",
    "2. Repetition:\n",
    "3. Membership Testing: "
   ]
  },
  {
   "cell_type": "markdown",
   "id": "0f936e54-ae2a-40c4-a381-0373de2a5373",
   "metadata": {},
   "source": [
    "## String:"
   ]
  },
  {
   "cell_type": "markdown",
   "id": "6b8f7527-2ab5-429e-aa10-a883f01b2c23",
   "metadata": {},
   "source": [
    "A string in Python is a sequence of characters enclosed within single quotes (`'...'`), double quotes (`\"...\"`), or triple quotes (`'''...'''` or `\"\"\"...\"\"\"`). Strings are immutable, meaning once they are created, their contents cannot be changed."
   ]
  },
  {
   "cell_type": "markdown",
   "id": "91db24a6-bfd6-4dc5-919c-d7f8319dd6ba",
   "metadata": {},
   "source": [
    "#### String Creating"
   ]
  },
  {
   "cell_type": "code",
   "execution_count": 46,
   "id": "d36bc98b-b970-42ca-b992-3544b5247d86",
   "metadata": {},
   "outputs": [
    {
     "name": "stdout",
     "output_type": "stream",
     "text": [
      "Hello, World! Hello, World! This is a\n",
      "multi-line string. This is also a\n",
      "multi-line string.\n"
     ]
    }
   ],
   "source": [
    "# Single quotes\n",
    "string1 = 'Hello, World!'\n",
    "\n",
    "# Double quotes\n",
    "string2 = \"Hello, World!\"\n",
    "\n",
    "# Triple quotes for multi-line strings\n",
    "string3 = '''This is a\n",
    "multi-line string.'''\n",
    "\n",
    "string4 = \"\"\"This is also a\n",
    "multi-line string.\"\"\"\n",
    "\n",
    "print(string1, string2,string3, string4 )"
   ]
  },
  {
   "cell_type": "markdown",
   "id": "274bd997-5c63-44a8-aa5b-d92416841398",
   "metadata": {},
   "source": [
    "#### Operations"
   ]
  },
  {
   "cell_type": "markdown",
   "id": "0cb5a3df-b1f5-4692-a2c5-532c90e4cd7f",
   "metadata": {},
   "source": [
    "1. Indexing:\n",
    "2. Slicing:\n",
    "3. Concatenation:\n",
    "4. Repetition"
   ]
  },
  {
   "cell_type": "markdown",
   "id": "2386ac58-2e3b-4e2c-8e3b-5b88bf8eec4d",
   "metadata": {},
   "source": [
    "### Set"
   ]
  },
  {
   "cell_type": "markdown",
   "id": "8a57d737-618a-4387-8c2a-18abdf354e91",
   "metadata": {},
   "source": [
    "set is an unordered collection of unique elements. It is defined by the set class"
   ]
  },
  {
   "cell_type": "markdown",
   "id": "5935223f-9cd3-4ab8-84c8-83b162605c7b",
   "metadata": {},
   "source": [
    "#### Syntax: \n",
    "            You can create a set using curly braces '{}' or the 'set()' constructor:\n",
    "            set = {1, 2, 3, 4,6,5,4,1}"
   ]
  },
  {
   "cell_type": "code",
   "execution_count": 21,
   "id": "f4c155d5-57a5-498d-b494-7a4575929837",
   "metadata": {},
   "outputs": [
    {
     "name": "stdout",
     "output_type": "stream",
     "text": [
      "{1, 2, 3, 4, 5, 6}\n"
     ]
    }
   ],
   "source": [
    "set = {1, 2, 3, 4,6,5,4,1}\n",
    "print(set)"
   ]
  },
  {
   "cell_type": "markdown",
   "id": "0d4389b0-475e-492e-a877-59d1b5e106ae",
   "metadata": {},
   "source": [
    "### Operations"
   ]
  },
  {
   "cell_type": "markdown",
   "id": "01288cb3-93bc-46d7-8647-4839c2341d4d",
   "metadata": {},
   "source": [
    "1. union,\n",
    "2. intersection,\n",
    "3. difference"
   ]
  },
  {
   "cell_type": "markdown",
   "id": "fb16cdbb-fa5b-46b9-a6be-ea60f977a6ad",
   "metadata": {},
   "source": [
    "## Mapping Type"
   ]
  },
  {
   "cell_type": "markdown",
   "id": "d747dd7e-b1c7-44b7-8b24-d8e70a40f1fc",
   "metadata": {},
   "source": [
    "Only one type of Mapping data Type which is Dictonary"
   ]
  },
  {
   "cell_type": "markdown",
   "id": "173354d5-de76-4f2e-a861-586ca17f4ed0",
   "metadata": {},
   "source": [
    "* A dictionary is an unordered collection of items. \n",
    "* Each item in a dictionary is a key-value pair. \n",
    "* Dictionaries are mutable, meaning they can be changed after creation. \n",
    "* They are used to store data values like a map, which, unlike other data types that hold only a single value as an element, can hold a key"
   ]
  },
  {
   "cell_type": "markdown",
   "id": "6cb37f91-c4c6-432e-b636-6b9d284657ae",
   "metadata": {},
   "source": [
    "Syntax: "
   ]
  },
  {
   "cell_type": "markdown",
   "id": "0a4ead41-13b6-45fe-9f82-5a5c3f971cea",
   "metadata": {},
   "source": [
    "dictionary = {\n",
    "    key1: value1,\n",
    "    key2: value2,\n",
    "    key3: value3,\n",
    "    ...\n",
    "}"
   ]
  },
  {
   "cell_type": "markdown",
   "id": "4966751c-dcdf-437a-b3a6-47293f8f60c6",
   "metadata": {},
   "source": [
    "Example: "
   ]
  },
  {
   "cell_type": "code",
   "execution_count": 49,
   "id": "8618be85-ff88-44bb-8b23-edfdd79580ff",
   "metadata": {},
   "outputs": [
    {
     "name": "stdout",
     "output_type": "stream",
     "text": [
      "Alice\n",
      "name Alice\n",
      "age 31\n",
      "job Engineer\n"
     ]
    }
   ],
   "source": [
    "# Creating a dictionary\n",
    "person = {\n",
    "    \"name\": \"Alice\",\n",
    "    \"age\": 30,\n",
    "    \"city\": \"New York\"\n",
    "}\n",
    "\n",
    "# Accessing a value by its key\n",
    "print(person[\"name\"])  # Output: Alice\n",
    "\n",
    "# Adding a new key-value pair\n",
    "person[\"job\"] = \"Engineer\"\n",
    "\n",
    "# Modifying an existing key-value pair\n",
    "person[\"age\"] = 31\n",
    "\n",
    "# Deleting a key-value pair\n",
    "del person[\"city\"]\n",
    "\n",
    "# Looping through dictionary keys\n",
    "for key in person:\n",
    "    print(key, person[key])"
   ]
  },
  {
   "cell_type": "markdown",
   "id": "a2dd2256-6530-4af2-977a-04069125e38f",
   "metadata": {},
   "source": [
    "We will see one by one 'Sequence type ' and 'Map type' in detail in upcoming file"
   ]
  },
  {
   "cell_type": "code",
   "execution_count": null,
   "id": "29bd5891-a45d-4d7c-ae30-4fb019aed900",
   "metadata": {},
   "outputs": [],
   "source": []
  }
 ],
 "metadata": {
  "kernelspec": {
   "display_name": "Python 3 (ipykernel)",
   "language": "python",
   "name": "python3"
  },
  "language_info": {
   "codemirror_mode": {
    "name": "ipython",
    "version": 3
   },
   "file_extension": ".py",
   "mimetype": "text/x-python",
   "name": "python",
   "nbconvert_exporter": "python",
   "pygments_lexer": "ipython3",
   "version": "3.12.4"
  }
 },
 "nbformat": 4,
 "nbformat_minor": 5
}
